{
  "nbformat": 4,
  "nbformat_minor": 0,
  "metadata": {
    "colab": {
      "name": "Tubes SKO - Repka Mochamad Zaqy Mulyadi(1101184183).ipynb",
      "provenance": [],
      "authorship_tag": "ABX9TyOrhBxGN6cQ7O9OEF+UkZSr",
      "include_colab_link": true
    },
    "kernelspec": {
      "name": "python3",
      "display_name": "Python 3"
    }
  },
  "cells": [
    {
      "cell_type": "markdown",
      "metadata": {
        "id": "view-in-github",
        "colab_type": "text"
      },
      "source": [
        "<a href=\"https://colab.research.google.com/github/repkazaqy/Tugas_SKO/blob/main/Tubes_SKO_Repka_Mochamad_Zaqy_Mulyadi(1101184183).ipynb\" target=\"_parent\"><img src=\"https://colab.research.google.com/assets/colab-badge.svg\" alt=\"Open In Colab\"/></a>"
      ]
    },
    {
      "cell_type": "markdown",
      "metadata": {
        "id": "fLikBs0o1h-D"
      },
      "source": [
        "**TUGAS BESAR SISTEM KOMUNIKASI OPTIK**  \r\n",
        "Nama  : Repka Mochamad Zaqy Mulyadi  \r\n",
        "NIM   : 1101184183  \r\n",
        "Kelas : TT-42-07"
      ]
    },
    {
      "cell_type": "code",
      "metadata": {
        "id": "JD16ElxR1U_8"
      },
      "source": [
        "import math as m\r\n",
        "import matplotlib.pyplot as plt\r\n",
        "import numpy as np"
      ],
      "execution_count": 2,
      "outputs": []
    },
    {
      "cell_type": "markdown",
      "metadata": {
        "id": "57gLQ8hfL7X4"
      },
      "source": [
        "**KETERANGAN ANALISIS PERHITUNGAN**"
      ]
    },
    {
      "cell_type": "markdown",
      "metadata": {
        "id": "ezAwYnz-MEny"
      },
      "source": [
        "*   Diketahui sebuah gedung di daerah Kopo, Bandung memiliki **40 lantai**.\r\n",
        "*   Jarak gedung tersebut dari Sentral di **STO Lembong, Bandung adalah 12 km (sampai ONU)**. Lantai yang dihitung adalah **lantai 24**, jarak\r\n",
        "yang ditempuh sampai ke Roset di lantai tersebut **ditambah 96 meter**. Maka total jaraknya yaitu **12.096 Km atau 12096 meter.**\r\n",
        "*   Panjang gelombang yang diketahui adalah **1490 nm** dengan redaman **0,28 db/Km.**\r\n",
        "*   Total ada **6 Connector, 2 Splitter,** dan **8 Splicer.**\r\n",
        "*   Untuk Splitter, masing-masing memiliki redaman. Splitter pertama memiliki redaman sebesar **16.37 dB** (Splitter 1:4) dan yang kedua memiliki redaman sebesar **18,28 db** (Splitter 1:8).\r\n",
        "*   Untuk Splicer nya memiliki redaman sebesar **0,1 dB.**\r\n",
        "*   Angka lain berhubungan dengan ketetapan yang diambil dari jurnal atau *paper* yang dijadikan referensi.\r\n",
        "\r\n",
        "\r\n",
        "\r\n",
        "\r\n",
        "\r\n",
        "\r\n"
      ]
    },
    {
      "cell_type": "markdown",
      "metadata": {
        "id": "ArSG1CZyC__M"
      },
      "source": [
        "**PARAMETER**"
      ]
    },
    {
      "cell_type": "code",
      "metadata": {
        "id": "SgbHOVpHHXnf"
      },
      "source": [
        "#PARAMETER UNTUK DAYA TERIMA\r\n",
        "j = np.arange(1.096,12.096,1)\r\n",
        "loss_fiber = 0.28 * j\r\n",
        "ptrans = 4\r\n",
        "\r\n",
        "#Splicer\r\n",
        "splicer = 8\r\n",
        "loss_splicer = 0.1 * 8\r\n",
        "\r\n",
        "#Connector\r\n",
        "connector = 6\r\n",
        "loss_connector = 0.3 * 6\r\n",
        "\r\n",
        "#Splitter\r\n",
        "splitter1 = 16.37\r\n",
        "splitter2 = 18.28\r\n",
        "loss_splitter = 16.37 + 18.28"
      ],
      "execution_count": 4,
      "outputs": []
    },
    {
      "cell_type": "code",
      "metadata": {
        "id": "GYRpnEOQC1ZS"
      },
      "source": [
        "#PARAMETER UNTUK SIGNAL TO NOISE RATIO (SNR)\r\n",
        "responsivitas = 0.85\r\n",
        "dtsinyal = -0.23\r\n",
        "loss_margin = 3\r\n",
        "muatan = 1.6*10**-19\r\n",
        "arusgelap = 2*10**-7\r\n",
        "BW = 8*10**9\r\n",
        "noise_figure = 1\r\n",
        "kboltzman = 1.38*10**-23\r\n",
        "tmp = 290\r\n",
        "RL = 50 "
      ],
      "execution_count": 5,
      "outputs": []
    },
    {
      "cell_type": "code",
      "metadata": {
        "id": "JOu0HVJ-C6T_"
      },
      "source": [
        "#PENGKONVERSIAN\r\n",
        "NtL = lambda x : 10 * np.log10(x)\r\n",
        "LtN = lambda x : 10**(x/10)"
      ],
      "execution_count": 6,
      "outputs": []
    },
    {
      "cell_type": "markdown",
      "metadata": {
        "id": "1vOVMBJCDT4j"
      },
      "source": [
        "**HASIL ANALISIS (FUNGSI & GRAFIK) TERLAMPIR**"
      ]
    },
    {
      "cell_type": "code",
      "metadata": {
        "colab": {
          "base_uri": "https://localhost:8080/"
        },
        "id": "gmsjAkqCSKHo",
        "outputId": "ccf06446-23b8-4a08-f52f-05a006b7a68d"
      },
      "source": [
        "#FUNGSI DAYA TERIMA\r\n",
        "def dayaterima(ptrans,j,loss_fiber,splicer,loss_splicer,connector,loss_connector,loss_splitter,loss_margin):\r\n",
        "  RT = loss_fiber + loss_splicer + loss_connector + loss_splitter + loss_margin\r\n",
        "  preceive = ptrans - RT\r\n",
        "  return preceive\r\n",
        "preceive = dayaterima(ptrans,j,loss_fiber,splicer,loss_splicer,connector,loss_connector,loss_splitter,loss_margin)\r\n",
        "print (\"Daya Terima =\",preceive)"
      ],
      "execution_count": 7,
      "outputs": [
        {
          "output_type": "stream",
          "text": [
            "Daya Terima = [-36.55688 -36.83688 -37.11688 -37.39688 -37.67688 -37.95688 -38.23688\n",
            " -38.51688 -38.79688 -39.07688 -39.35688]\n"
          ],
          "name": "stdout"
        }
      ]
    },
    {
      "cell_type": "code",
      "metadata": {
        "colab": {
          "base_uri": "https://localhost:8080/",
          "height": 329
        },
        "id": "MfPczYfkSQTz",
        "outputId": "f775de27-5313-48f6-f06b-e931a703b6bb"
      },
      "source": [
        "#FUNGSI SIGNAL NOISE TO RATIO\r\n",
        "\r\n",
        "#Arus primer\r\n",
        "def arusprimer(preceive):\r\n",
        "  preceive_num = LtN(preceive)\r\n",
        "  iprimer = preceive_num * responsivitas\r\n",
        "  return iprimer\r\n",
        "iprimer = arusprimer(preceive)\r\n",
        "\r\n",
        "#BDC\r\n",
        "def bdc(muatan,arusgelap,BW,dtsinyal,noise_figure):\r\n",
        "  BDC = 2*muatan*arusgelap*BW*dtsinyal*dtsinyal*noise_figure\r\n",
        "  return BDC\r\n",
        "BDC = bdc(muatan,arusgelap,BW,dtsinyal,noise_figure)\r\n",
        "\r\n",
        "#Shot Noise\r\n",
        "def shotnoise(muatan,arusgelap,BW,dtsinyal,noise_figure):\r\n",
        "  sn = 2*muatan*arusgelap*BW*dtsinyal*dtsinyal*noise_figure\r\n",
        "  return sn\r\n",
        "sn = shotnoise(muatan,arusgelap,BW,dtsinyal,noise_figure)\r\n",
        "\r\n",
        "#Noise Thermal\r\n",
        "def noisethermal(kboltzman,tmp,BW,RL):\r\n",
        "  nt = (4*kboltzman*tmp*BW)/RL\r\n",
        "  return nt\r\n",
        "nt = noisethermal(kboltzman,tmp,BW,RL)\r\n",
        "\r\n",
        "#SNR (Signal Noise to Ratio)\r\n",
        "def snr(BDC,sn,nt,dtsinyal,iprimer):\r\n",
        "  SNR = ((iprimer)**2 * dtsinyal**2)/(BDC + sn + nt)\r\n",
        "  signr = NtL(SNR) \r\n",
        "  return signr\r\n",
        "signr = snr(BDC,sn,nt,dtsinyal,iprimer)\r\n",
        "print(\"SNR =\",signr)\r\n",
        "\r\n",
        "#GRAFIK SIGNAL NOISE TO RATIO (SNR)\r\n",
        "def grafik_snr():\r\n",
        "  plt.figure()\r\n",
        "  plt.plot(j,signr,'--')\r\n",
        "  plt.title('Perbandingan Jarak dengan SNR')\r\n",
        "  plt.xlabel('Jarak (Km)')\r\n",
        "  plt.ylabel('SNR (dB)')\r\n",
        "  plt.show()\r\n",
        "\r\n",
        "grafik_snr()"
      ],
      "execution_count": 10,
      "outputs": [
        {
          "output_type": "stream",
          "text": [
            "SNR = [28.6245128 28.0645128 27.5045128 26.9445128 26.3845128 25.8245128\n",
            " 25.2645128 24.7045128 24.1445128 23.5845128 23.0245128]\n"
          ],
          "name": "stdout"
        },
        {
          "output_type": "display_data",
          "data": {
            "image/png": "[encoded data removed]",
            "text/plain": [
              "<Figure size 432x288 with 1 Axes>"
            ]
          },
          "metadata": {
            "tags": [],
            "needs_background": "light"
          }
        }
      ]
    },
    {
      "cell_type": "code",
      "metadata": {
        "colab": {
          "base_uri": "https://localhost:8080/",
          "height": 329
        },
        "id": "8MtXFnwM3Erj",
        "outputId": "d1ba7708-6342-4e76-c479-47ed96ab699a"
      },
      "source": [
        "#FUNGSI Q-FAKTOR\r\n",
        "def qfaktor(signr):\r\n",
        "  qf = 10**(signr/20)\r\n",
        "  return qf\r\n",
        "QF = qfaktor(signr)\r\n",
        "print(\"Q-Faktor =\",QF)\r\n",
        "\r\n",
        "#GRAFIK Q-FAKTOR\r\n",
        "def grafik_Q():\r\n",
        "  plt.figure()\r\n",
        "  plt.plot(j,QF,'--')\r\n",
        "  plt.title('Perbandingan Jarak dengan Q')\r\n",
        "  plt.xlabel('Jarak (Km)')\r\n",
        "  plt.ylabel('Q')\r\n",
        "  plt.show()\r\n",
        "\r\n",
        "grafik_Q()"
      ],
      "execution_count": 9,
      "outputs": [
        {
          "output_type": "stream",
          "text": [
            "Q-Faktor = [26.99141422 25.30612449 23.72606086 22.24465324 20.85574173 19.55355107\n",
            " 18.33266659 17.18801168 16.11482672 15.10864929 14.16529555]\n"
          ],
          "name": "stdout"
        },
        {
          "output_type": "display_data",
          "data": {
            "image/png": "[encoded data removed]",
            "text/plain": [
              "<Figure size 432x288 with 1 Axes>"
            ]
          },
          "metadata": {
            "tags": [],
            "needs_background": "light"
          }
        }
      ]
    },
    {
      "cell_type": "code",
      "metadata": {
        "colab": {
          "base_uri": "https://localhost:8080/",
          "height": 346
        },
        "id": "t49r5olv3MBu",
        "outputId": "66bc7421-2bf5-4b15-9f77-bfe0024921ee"
      },
      "source": [
        "#FUNGSI BER\r\n",
        "def ber(QF):\r\n",
        "  phi = 3.14159\r\n",
        "  BER = (1/(QF*np.sqrt(2*phi)))*(np.exp(-QF**2/2))\r\n",
        "  return BER\r\n",
        "BER = ber(QF)\r\n",
        "print(\"BER =\",BER)\r\n",
        "\r\n",
        "#GRAFIK BER\r\n",
        "def grafik_BER():\r\n",
        "  plt.figure()\r\n",
        "  plt.plot(j,BER,'--')\r\n",
        "  plt.title('Perbandingan Jarak dengan BER')\r\n",
        "  plt.xlabel('Jarak (Km)')\r\n",
        "  plt.ylabel('BER')\r\n",
        "  plt.show()\r\n",
        "\r\n",
        "grafik_BER()"
      ],
      "execution_count": 11,
      "outputs": [
        {
          "output_type": "stream",
          "text": [
            "BER = [9.33268005e-161 1.36963640e-141 9.72444157e-125 6.36632016e-110\n",
            " 6.77476724e-097 1.92891577e-085 2.27715583e-075 1.63819193e-066\n",
            " 1.00746507e-058 7.13190040e-052 7.54875177e-046]\n"
          ],
          "name": "stdout"
        },
        {
          "output_type": "display_data",
          "data": {
            "image/png": "[encoded data removed]",
            "text/plain": [
              "<Figure size 432x288 with 1 Axes>"
            ]
          },
          "metadata": {
            "tags": [],
            "needs_background": "light"
          }
        }
      ]
    },
    {
      "cell_type": "code",
      "metadata": {
        "id": "sem7Gh-RhYja",
        "outputId": "6cb10795-8474-4ad9-baa1-d10c830c25e0",
        "colab": {
          "base_uri": "https://localhost:8080/",
          "height": 295
        }
      },
      "source": [
        "def grafik_perbandingan():\r\n",
        "  plt.figure()\r\n",
        "  plt.plot(signr,BER,'--')\r\n",
        "  plt.title('Perbandingan BER dengan SNR')\r\n",
        "  plt.xlabel('SNR')\r\n",
        "  plt.ylabel('BER')\r\n",
        "  plt.show()\r\n",
        "\r\n",
        "grafik_perbandingan()"
      ],
      "execution_count": 12,
      "outputs": [
        {
          "output_type": "display_data",
          "data": {
            "image/png": "[encoded data removed]",
            "text/plain": [
              "<Figure size 432x288 with 1 Axes>"
            ]
          },
          "metadata": {
            "tags": [],
            "needs_background": "light"
          }
        }
      ]
    }
  ]
}